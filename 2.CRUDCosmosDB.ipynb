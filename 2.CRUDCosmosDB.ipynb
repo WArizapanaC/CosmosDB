{
 "cells": [
  {
   "cell_type": "code",
   "execution_count": 1,
   "metadata": {},
   "outputs": [
    {
     "name": "stdout",
     "output_type": "stream",
     "text": [
      "Collecting azure-cosmos\n",
      "  Downloading azure_cosmos-4.7.0-py3-none-any.whl.metadata (70 kB)\n",
      "Collecting azure-core>=1.25.1 (from azure-cosmos)\n",
      "  Downloading azure_core-1.31.0-py3-none-any.whl.metadata (39 kB)\n",
      "Requirement already satisfied: typing-extensions>=4.6.0 in /home/codespace/.local/lib/python3.12/site-packages (from azure-cosmos) (4.9.0)\n",
      "Requirement already satisfied: requests>=2.21.0 in /home/codespace/.local/lib/python3.12/site-packages (from azure-core>=1.25.1->azure-cosmos) (2.32.3)\n",
      "Requirement already satisfied: six>=1.11.0 in /home/codespace/.local/lib/python3.12/site-packages (from azure-core>=1.25.1->azure-cosmos) (1.16.0)\n",
      "Requirement already satisfied: charset-normalizer<4,>=2 in /home/codespace/.local/lib/python3.12/site-packages (from requests>=2.21.0->azure-core>=1.25.1->azure-cosmos) (3.3.2)\n",
      "Requirement already satisfied: idna<4,>=2.5 in /home/codespace/.local/lib/python3.12/site-packages (from requests>=2.21.0->azure-core>=1.25.1->azure-cosmos) (3.10)\n",
      "Requirement already satisfied: urllib3<3,>=1.21.1 in /home/codespace/.local/lib/python3.12/site-packages (from requests>=2.21.0->azure-core>=1.25.1->azure-cosmos) (2.2.3)\n",
      "Requirement already satisfied: certifi>=2017.4.17 in /home/codespace/.local/lib/python3.12/site-packages (from requests>=2.21.0->azure-core>=1.25.1->azure-cosmos) (2024.8.30)\n",
      "Downloading azure_cosmos-4.7.0-py3-none-any.whl (252 kB)\n",
      "Downloading azure_core-1.31.0-py3-none-any.whl (197 kB)\n",
      "Installing collected packages: azure-core, azure-cosmos\n",
      "Successfully installed azure-core-1.31.0 azure-cosmos-4.7.0\n"
     ]
    }
   ],
   "source": [
    "!pip install azure-cosmos"
   ]
  },
  {
   "cell_type": "code",
   "execution_count": 2,
   "metadata": {},
   "outputs": [],
   "source": [
    "# Endpoint: \n",
    "# Key: \n",
    "\n",
    "COSMOS_ENDPOINT = ''\n",
    "COSMOS_KEY = ''\n",
    "\n",
    "DATABASE_NAME = 'Test'\n",
    "CONTAINER_NAME = 'retail'"
   ]
  },
  {
   "cell_type": "code",
   "execution_count": 3,
   "metadata": {},
   "outputs": [],
   "source": [
    "from azure.cosmos import CosmosClient, exceptions, PartitionKey"
   ]
  },
  {
   "cell_type": "code",
   "execution_count": 4,
   "metadata": {},
   "outputs": [],
   "source": [
    "client = CosmosClient(COSMOS_ENDPOINT, COSMOS_KEY)"
   ]
  },
  {
   "cell_type": "code",
   "execution_count": 5,
   "metadata": {},
   "outputs": [],
   "source": [
    "database = client.create_database_if_not_exists(id=DATABASE_NAME)"
   ]
  },
  {
   "cell_type": "code",
   "execution_count": 10,
   "metadata": {},
   "outputs": [],
   "source": [
    "conteiner =database.create_container_if_not_exists(\n",
    "    id=CONTAINER_NAME,\n",
    "    partition_key= PartitionKey(path=\"/id\"),\n",
    "    offer_throughput=400\n",
    ")"
   ]
  },
  {
   "cell_type": "code",
   "execution_count": 6,
   "metadata": {},
   "outputs": [
    {
     "data": {
      "text/plain": [
       "dict"
      ]
     },
     "execution_count": 6,
     "metadata": {},
     "output_type": "execute_result"
    }
   ],
   "source": [
    "documento = {\n",
    "    \"id\": \"1\",\n",
    "    \"nombre\": \"Producto A\",\n",
    "    \"descripcion\": \"Descripcion del producto A\",\n",
    "    \"precio\": 29.99,\n",
    "    \"categoria\": \"Electronica\"\n",
    " \n",
    "}\n",
    "type(documento)"
   ]
  },
  {
   "cell_type": "code",
   "execution_count": 12,
   "metadata": {},
   "outputs": [
    {
     "ename": "CosmosResourceExistsError",
     "evalue": "(Conflict) Entity with the specified id already exists in the system., \r\nRequestStartTime: 2024-10-09T23:32:28.8428123Z, RequestEndTime: 2024-10-09T23:32:28.8452891Z,  Number of regions attempted:1\r\n{\"systemHistory\":[{\"dateUtc\":\"2024-10-09T23:31:35.7201841Z\",\"cpu\":0.783,\"memory\":470393788.000,\"threadInfo\":{\"isThreadStarving\":\"False\",\"threadWaitIntervalInMs\":0.0928,\"availableThreads\":32765,\"minThreads\":52,\"maxThreads\":32767},\"numberOfOpenTcpConnection\":1177},{\"dateUtc\":\"2024-10-09T23:31:45.7302808Z\",\"cpu\":1.597,\"memory\":470400100.000,\"threadInfo\":{\"isThreadStarving\":\"False\",\"threadWaitIntervalInMs\":0.0462,\"availableThreads\":32765,\"minThreads\":52,\"maxThreads\":32767},\"numberOfOpenTcpConnection\":1177},{\"dateUtc\":\"2024-10-09T23:31:55.7403405Z\",\"cpu\":0.327,\"memory\":470395360.000,\"threadInfo\":{\"isThreadStarving\":\"False\",\"threadWaitIntervalInMs\":0.1125,\"availableThreads\":32765,\"minThreads\":52,\"maxThreads\":32767},\"numberOfOpenTcpConnection\":1181},{\"dateUtc\":\"2024-10-09T23:32:05.7503551Z\",\"cpu\":0.606,\"memory\":470399480.000,\"threadInfo\":{\"isThreadStarving\":\"False\",\"threadWaitIntervalInMs\":0.0481,\"availableThreads\":32765,\"minThreads\":52,\"maxThreads\":32767},\"numberOfOpenTcpConnection\":1188},{\"dateUtc\":\"2024-10-09T23:32:15.7604543Z\",\"cpu\":1.112,\"memory\":470402204.000,\"threadInfo\":{\"isThreadStarving\":\"False\",\"threadWaitIntervalInMs\":0.16,\"availableThreads\":32765,\"minThreads\":52,\"maxThreads\":32767},\"numberOfOpenTcpConnection\":1197},{\"dateUtc\":\"2024-10-09T23:32:25.7708568Z\",\"cpu\":0.921,\"memory\":470407680.000,\"threadInfo\":{\"isThreadStarving\":\"False\",\"threadWaitIntervalInMs\":0.1088,\"availableThreads\":32765,\"minThreads\":52,\"maxThreads\":32767},\"numberOfOpenTcpConnection\":1197}]}\r\nRequestStart: 2024-10-09T23:32:28.8429127Z; ResponseTime: 2024-10-09T23:32:28.8452891Z; StoreResult: StorePhysicalAddress: rntbd://cdb-ms-prod-westus2-be114.documents.azure.com:14102/apps/130daf2e-2a1b-4939-89eb-3b858b6c17c7/services/0f7c48e0-4409-4ef6-afef-80b41b5b5dca/partitions/818afbc7-f320-4351-b9de-a940f1356be2/replicas/133728039025196005p/, LSN: 2, GlobalCommittedLsn: 2, PartitionKeyRangeId: 0, IsValid: True, StatusCode: 409, SubStatusCode: 0, RequestCharge: 1.76, ItemLSN: -1, SessionToken: -1#2, UsingLocalLSN: False, TransportException: null, BELatencyMs: 1.546, ActivityId: 489d9ab8-239b-4667-9467-2b774e101531, RetryAfterInMs: , ReplicaHealthStatuses: [(port: 14102 | status: Connected | lkt: 10/9/2024 11:32:18 PM)], TransportRequestTimeline: {\"requestTimeline\":[{\"event\": \"Created\", \"startTimeUtc\": \"2024-10-09T23:32:28.8429135Z\", \"durationInMs\": 0.0084},{\"event\": \"ChannelAcquisitionStarted\", \"startTimeUtc\": \"2024-10-09T23:32:28.8429219Z\", \"durationInMs\": 0.0125},{\"event\": \"Pipelined\", \"startTimeUtc\": \"2024-10-09T23:32:28.8429344Z\", \"durationInMs\": 0.0797},{\"event\": \"Transit Time\", \"startTimeUtc\": \"2024-10-09T23:32:28.8430141Z\", \"durationInMs\": 2.1406},{\"event\": \"Received\", \"startTimeUtc\": \"2024-10-09T23:32:28.8451547Z\", \"durationInMs\": 0.1224},{\"event\": \"Completed\", \"startTimeUtc\": \"2024-10-09T23:32:28.8452771Z\", \"durationInMs\": 0}],\"serviceEndpointStats\":{\"inflightRequests\":1,\"openConnections\":1},\"connectionStats\":{\"waitforConnectionInit\":\"False\",\"callsPendingReceive\":0,\"lastSendAttempt\":\"2024-10-09T23:32:18.8705656Z\",\"lastSend\":\"2024-10-09T23:32:18.8706005Z\",\"lastReceive\":\"2024-10-09T23:32:18.8724932Z\"},\"requestSizeInBytes\":626,\"requestBodySizeInBytes\":120,\"responseMetadataSizeInBytes\":182,\"responseBodySizeInBytes\":65};\r\n ResourceType: Document, OperationType: Create\r\n, Microsoft.Azure.Documents.Common/2.14.0\nCode: Conflict\nMessage: Entity with the specified id already exists in the system., \r\nRequestStartTime: 2024-10-09T23:32:28.8428123Z, RequestEndTime: 2024-10-09T23:32:28.8452891Z,  Number of regions attempted:1\r\n{\"systemHistory\":[{\"dateUtc\":\"2024-10-09T23:31:35.7201841Z\",\"cpu\":0.783,\"memory\":470393788.000,\"threadInfo\":{\"isThreadStarving\":\"False\",\"threadWaitIntervalInMs\":0.0928,\"availableThreads\":32765,\"minThreads\":52,\"maxThreads\":32767},\"numberOfOpenTcpConnection\":1177},{\"dateUtc\":\"2024-10-09T23:31:45.7302808Z\",\"cpu\":1.597,\"memory\":470400100.000,\"threadInfo\":{\"isThreadStarving\":\"False\",\"threadWaitIntervalInMs\":0.0462,\"availableThreads\":32765,\"minThreads\":52,\"maxThreads\":32767},\"numberOfOpenTcpConnection\":1177},{\"dateUtc\":\"2024-10-09T23:31:55.7403405Z\",\"cpu\":0.327,\"memory\":470395360.000,\"threadInfo\":{\"isThreadStarving\":\"False\",\"threadWaitIntervalInMs\":0.1125,\"availableThreads\":32765,\"minThreads\":52,\"maxThreads\":32767},\"numberOfOpenTcpConnection\":1181},{\"dateUtc\":\"2024-10-09T23:32:05.7503551Z\",\"cpu\":0.606,\"memory\":470399480.000,\"threadInfo\":{\"isThreadStarving\":\"False\",\"threadWaitIntervalInMs\":0.0481,\"availableThreads\":32765,\"minThreads\":52,\"maxThreads\":32767},\"numberOfOpenTcpConnection\":1188},{\"dateUtc\":\"2024-10-09T23:32:15.7604543Z\",\"cpu\":1.112,\"memory\":470402204.000,\"threadInfo\":{\"isThreadStarving\":\"False\",\"threadWaitIntervalInMs\":0.16,\"availableThreads\":32765,\"minThreads\":52,\"maxThreads\":32767},\"numberOfOpenTcpConnection\":1197},{\"dateUtc\":\"2024-10-09T23:32:25.7708568Z\",\"cpu\":0.921,\"memory\":470407680.000,\"threadInfo\":{\"isThreadStarving\":\"False\",\"threadWaitIntervalInMs\":0.1088,\"availableThreads\":32765,\"minThreads\":52,\"maxThreads\":32767},\"numberOfOpenTcpConnection\":1197}]}\r\nRequestStart: 2024-10-09T23:32:28.8429127Z; ResponseTime: 2024-10-09T23:32:28.8452891Z; StoreResult: StorePhysicalAddress: rntbd://cdb-ms-prod-westus2-be114.documents.azure.com:14102/apps/130daf2e-2a1b-4939-89eb-3b858b6c17c7/services/0f7c48e0-4409-4ef6-afef-80b41b5b5dca/partitions/818afbc7-f320-4351-b9de-a940f1356be2/replicas/133728039025196005p/, LSN: 2, GlobalCommittedLsn: 2, PartitionKeyRangeId: 0, IsValid: True, StatusCode: 409, SubStatusCode: 0, RequestCharge: 1.76, ItemLSN: -1, SessionToken: -1#2, UsingLocalLSN: False, TransportException: null, BELatencyMs: 1.546, ActivityId: 489d9ab8-239b-4667-9467-2b774e101531, RetryAfterInMs: , ReplicaHealthStatuses: [(port: 14102 | status: Connected | lkt: 10/9/2024 11:32:18 PM)], TransportRequestTimeline: {\"requestTimeline\":[{\"event\": \"Created\", \"startTimeUtc\": \"2024-10-09T23:32:28.8429135Z\", \"durationInMs\": 0.0084},{\"event\": \"ChannelAcquisitionStarted\", \"startTimeUtc\": \"2024-10-09T23:32:28.8429219Z\", \"durationInMs\": 0.0125},{\"event\": \"Pipelined\", \"startTimeUtc\": \"2024-10-09T23:32:28.8429344Z\", \"durationInMs\": 0.0797},{\"event\": \"Transit Time\", \"startTimeUtc\": \"2024-10-09T23:32:28.8430141Z\", \"durationInMs\": 2.1406},{\"event\": \"Received\", \"startTimeUtc\": \"2024-10-09T23:32:28.8451547Z\", \"durationInMs\": 0.1224},{\"event\": \"Completed\", \"startTimeUtc\": \"2024-10-09T23:32:28.8452771Z\", \"durationInMs\": 0}],\"serviceEndpointStats\":{\"inflightRequests\":1,\"openConnections\":1},\"connectionStats\":{\"waitforConnectionInit\":\"False\",\"callsPendingReceive\":0,\"lastSendAttempt\":\"2024-10-09T23:32:18.8705656Z\",\"lastSend\":\"2024-10-09T23:32:18.8706005Z\",\"lastReceive\":\"2024-10-09T23:32:18.8724932Z\"},\"requestSizeInBytes\":626,\"requestBodySizeInBytes\":120,\"responseMetadataSizeInBytes\":182,\"responseBodySizeInBytes\":65};\r\n ResourceType: Document, OperationType: Create\r\n, Microsoft.Azure.Documents.Common/2.14.0",
     "output_type": "error",
     "traceback": [
      "\u001b[0;31m---------------------------------------------------------------------------\u001b[0m",
      "\u001b[0;31mCosmosResourceExistsError\u001b[0m                 Traceback (most recent call last)",
      "Cell \u001b[0;32mIn[12], line 1\u001b[0m\n\u001b[0;32m----> 1\u001b[0m item \u001b[38;5;241m=\u001b[39m \u001b[43mconteiner\u001b[49m\u001b[38;5;241;43m.\u001b[39;49m\u001b[43mcreate_item\u001b[49m\u001b[43m(\u001b[49m\u001b[43mbody\u001b[49m\u001b[38;5;241;43m=\u001b[39;49m\u001b[43mdocumento\u001b[49m\u001b[43m)\u001b[49m\n",
      "File \u001b[0;32m~/.python/current/lib/python3.12/site-packages/azure/core/tracing/decorator.py:94\u001b[0m, in \u001b[0;36mdistributed_trace.<locals>.decorator.<locals>.wrapper_use_tracer\u001b[0;34m(*args, **kwargs)\u001b[0m\n\u001b[1;32m     92\u001b[0m span_impl_type \u001b[38;5;241m=\u001b[39m settings\u001b[38;5;241m.\u001b[39mtracing_implementation()\n\u001b[1;32m     93\u001b[0m \u001b[38;5;28;01mif\u001b[39;00m span_impl_type \u001b[38;5;129;01mis\u001b[39;00m \u001b[38;5;28;01mNone\u001b[39;00m:\n\u001b[0;32m---> 94\u001b[0m     \u001b[38;5;28;01mreturn\u001b[39;00m \u001b[43mfunc\u001b[49m\u001b[43m(\u001b[49m\u001b[38;5;241;43m*\u001b[39;49m\u001b[43margs\u001b[49m\u001b[43m,\u001b[49m\u001b[43m \u001b[49m\u001b[38;5;241;43m*\u001b[39;49m\u001b[38;5;241;43m*\u001b[39;49m\u001b[43mkwargs\u001b[49m\u001b[43m)\u001b[49m\n\u001b[1;32m     96\u001b[0m \u001b[38;5;66;03m# Merge span is parameter is set, but only if no explicit parent are passed\u001b[39;00m\n\u001b[1;32m     97\u001b[0m \u001b[38;5;28;01mif\u001b[39;00m merge_span \u001b[38;5;129;01mand\u001b[39;00m \u001b[38;5;129;01mnot\u001b[39;00m passed_in_parent:\n",
      "File \u001b[0;32m~/.python/current/lib/python3.12/site-packages/azure/cosmos/container.py:704\u001b[0m, in \u001b[0;36mContainerProxy.create_item\u001b[0;34m(self, body, populate_query_metrics, pre_trigger_include, post_trigger_include, indexing_directive, enable_automatic_id_generation, session_token, initial_headers, etag, match_condition, priority, **kwargs)\u001b[0m\n\u001b[1;32m    701\u001b[0m \u001b[38;5;28;01mif\u001b[39;00m indexing_directive \u001b[38;5;129;01mis\u001b[39;00m \u001b[38;5;129;01mnot\u001b[39;00m \u001b[38;5;28;01mNone\u001b[39;00m:\n\u001b[1;32m    702\u001b[0m     request_options[\u001b[38;5;124m\"\u001b[39m\u001b[38;5;124mindexingDirective\u001b[39m\u001b[38;5;124m\"\u001b[39m] \u001b[38;5;241m=\u001b[39m indexing_directive\n\u001b[0;32m--> 704\u001b[0m \u001b[38;5;28;01mreturn\u001b[39;00m \u001b[38;5;28;43mself\u001b[39;49m\u001b[38;5;241;43m.\u001b[39;49m\u001b[43mclient_connection\u001b[49m\u001b[38;5;241;43m.\u001b[39;49m\u001b[43mCreateItem\u001b[49m\u001b[43m(\u001b[49m\n\u001b[1;32m    705\u001b[0m \u001b[43m    \u001b[49m\u001b[43mdatabase_or_container_link\u001b[49m\u001b[38;5;241;43m=\u001b[39;49m\u001b[38;5;28;43mself\u001b[39;49m\u001b[38;5;241;43m.\u001b[39;49m\u001b[43mcontainer_link\u001b[49m\u001b[43m,\u001b[49m\u001b[43m \u001b[49m\u001b[43mdocument\u001b[49m\u001b[38;5;241;43m=\u001b[39;49m\u001b[43mbody\u001b[49m\u001b[43m,\u001b[49m\u001b[43m \u001b[49m\u001b[43moptions\u001b[49m\u001b[38;5;241;43m=\u001b[39;49m\u001b[43mrequest_options\u001b[49m\u001b[43m,\u001b[49m\u001b[43m \u001b[49m\u001b[38;5;241;43m*\u001b[39;49m\u001b[38;5;241;43m*\u001b[39;49m\u001b[43mkwargs\u001b[49m\u001b[43m)\u001b[49m\n",
      "File \u001b[0;32m~/.python/current/lib/python3.12/site-packages/azure/cosmos/_cosmos_client_connection.py:1266\u001b[0m, in \u001b[0;36mCosmosClientConnection.CreateItem\u001b[0;34m(self, database_or_container_link, document, options, **kwargs)\u001b[0m\n\u001b[1;32m   1263\u001b[0m \u001b[38;5;28;01mif\u001b[39;00m base\u001b[38;5;241m.\u001b[39mIsItemContainerLink(database_or_container_link):\n\u001b[1;32m   1264\u001b[0m     options \u001b[38;5;241m=\u001b[39m \u001b[38;5;28mself\u001b[39m\u001b[38;5;241m.\u001b[39m_AddPartitionKey(database_or_container_link, document, options)\n\u001b[0;32m-> 1266\u001b[0m \u001b[38;5;28;01mreturn\u001b[39;00m \u001b[38;5;28;43mself\u001b[39;49m\u001b[38;5;241;43m.\u001b[39;49m\u001b[43mCreate\u001b[49m\u001b[43m(\u001b[49m\u001b[43mdocument\u001b[49m\u001b[43m,\u001b[49m\u001b[43m \u001b[49m\u001b[43mpath\u001b[49m\u001b[43m,\u001b[49m\u001b[43m \u001b[49m\u001b[38;5;124;43m\"\u001b[39;49m\u001b[38;5;124;43mdocs\u001b[39;49m\u001b[38;5;124;43m\"\u001b[39;49m\u001b[43m,\u001b[49m\u001b[43m \u001b[49m\u001b[43mcollection_id\u001b[49m\u001b[43m,\u001b[49m\u001b[43m \u001b[49m\u001b[38;5;28;43;01mNone\u001b[39;49;00m\u001b[43m,\u001b[49m\u001b[43m \u001b[49m\u001b[43moptions\u001b[49m\u001b[43m,\u001b[49m\u001b[43m \u001b[49m\u001b[38;5;241;43m*\u001b[39;49m\u001b[38;5;241;43m*\u001b[39;49m\u001b[43mkwargs\u001b[49m\u001b[43m)\u001b[49m\n",
      "File \u001b[0;32m~/.python/current/lib/python3.12/site-packages/azure/cosmos/_cosmos_client_connection.py:2592\u001b[0m, in \u001b[0;36mCosmosClientConnection.Create\u001b[0;34m(self, body, path, typ, id, initial_headers, options, **kwargs)\u001b[0m\n\u001b[1;32m   2589\u001b[0m \u001b[38;5;66;03m# Create will use WriteEndpoint since it uses POST operation\u001b[39;00m\n\u001b[1;32m   2591\u001b[0m request_params \u001b[38;5;241m=\u001b[39m RequestObject(typ, documents\u001b[38;5;241m.\u001b[39m_OperationType\u001b[38;5;241m.\u001b[39mCreate)\n\u001b[0;32m-> 2592\u001b[0m result, last_response_headers \u001b[38;5;241m=\u001b[39m \u001b[38;5;28;43mself\u001b[39;49m\u001b[38;5;241;43m.\u001b[39;49m\u001b[43m__Post\u001b[49m\u001b[43m(\u001b[49m\u001b[43mpath\u001b[49m\u001b[43m,\u001b[49m\u001b[43m \u001b[49m\u001b[43mrequest_params\u001b[49m\u001b[43m,\u001b[49m\u001b[43m \u001b[49m\u001b[43mbody\u001b[49m\u001b[43m,\u001b[49m\u001b[43m \u001b[49m\u001b[43mheaders\u001b[49m\u001b[43m,\u001b[49m\u001b[43m \u001b[49m\u001b[38;5;241;43m*\u001b[39;49m\u001b[38;5;241;43m*\u001b[39;49m\u001b[43mkwargs\u001b[49m\u001b[43m)\u001b[49m\n\u001b[1;32m   2593\u001b[0m \u001b[38;5;28mself\u001b[39m\u001b[38;5;241m.\u001b[39mlast_response_headers \u001b[38;5;241m=\u001b[39m last_response_headers\n\u001b[1;32m   2595\u001b[0m \u001b[38;5;66;03m# update session for write request\u001b[39;00m\n",
      "File \u001b[0;32m~/.python/current/lib/python3.12/site-packages/azure/cosmos/_cosmos_client_connection.py:2811\u001b[0m, in \u001b[0;36mCosmosClientConnection.__Post\u001b[0;34m(self, path, request_params, body, req_headers, **kwargs)\u001b[0m\n\u001b[1;32m   2801\u001b[0m \u001b[38;5;250m\u001b[39m\u001b[38;5;124;03m\"\"\"Azure Cosmos 'POST' http request.\u001b[39;00m\n\u001b[1;32m   2802\u001b[0m \n\u001b[1;32m   2803\u001b[0m \u001b[38;5;124;03m:param str path: the url to be used for the request.\u001b[39;00m\n\u001b[0;32m   (...)\u001b[0m\n\u001b[1;32m   2808\u001b[0m \u001b[38;5;124;03m:rtype: tuple of (dict, dict)\u001b[39;00m\n\u001b[1;32m   2809\u001b[0m \u001b[38;5;124;03m\"\"\"\u001b[39;00m\n\u001b[1;32m   2810\u001b[0m request \u001b[38;5;241m=\u001b[39m \u001b[38;5;28mself\u001b[39m\u001b[38;5;241m.\u001b[39mpipeline_client\u001b[38;5;241m.\u001b[39mpost(url\u001b[38;5;241m=\u001b[39mpath, headers\u001b[38;5;241m=\u001b[39mreq_headers)\n\u001b[0;32m-> 2811\u001b[0m \u001b[38;5;28;01mreturn\u001b[39;00m \u001b[43msynchronized_request\u001b[49m\u001b[38;5;241;43m.\u001b[39;49m\u001b[43mSynchronizedRequest\u001b[49m\u001b[43m(\u001b[49m\n\u001b[1;32m   2812\u001b[0m \u001b[43m    \u001b[49m\u001b[43mclient\u001b[49m\u001b[38;5;241;43m=\u001b[39;49m\u001b[38;5;28;43mself\u001b[39;49m\u001b[43m,\u001b[49m\n\u001b[1;32m   2813\u001b[0m \u001b[43m    \u001b[49m\u001b[43mrequest_params\u001b[49m\u001b[38;5;241;43m=\u001b[39;49m\u001b[43mrequest_params\u001b[49m\u001b[43m,\u001b[49m\n\u001b[1;32m   2814\u001b[0m \u001b[43m    \u001b[49m\u001b[43mglobal_endpoint_manager\u001b[49m\u001b[38;5;241;43m=\u001b[39;49m\u001b[38;5;28;43mself\u001b[39;49m\u001b[38;5;241;43m.\u001b[39;49m\u001b[43m_global_endpoint_manager\u001b[49m\u001b[43m,\u001b[49m\n\u001b[1;32m   2815\u001b[0m \u001b[43m    \u001b[49m\u001b[43mconnection_policy\u001b[49m\u001b[38;5;241;43m=\u001b[39;49m\u001b[38;5;28;43mself\u001b[39;49m\u001b[38;5;241;43m.\u001b[39;49m\u001b[43mconnection_policy\u001b[49m\u001b[43m,\u001b[49m\n\u001b[1;32m   2816\u001b[0m \u001b[43m    \u001b[49m\u001b[43mpipeline_client\u001b[49m\u001b[38;5;241;43m=\u001b[39;49m\u001b[38;5;28;43mself\u001b[39;49m\u001b[38;5;241;43m.\u001b[39;49m\u001b[43mpipeline_client\u001b[49m\u001b[43m,\u001b[49m\n\u001b[1;32m   2817\u001b[0m \u001b[43m    \u001b[49m\u001b[43mrequest\u001b[49m\u001b[38;5;241;43m=\u001b[39;49m\u001b[43mrequest\u001b[49m\u001b[43m,\u001b[49m\n\u001b[1;32m   2818\u001b[0m \u001b[43m    \u001b[49m\u001b[43mrequest_data\u001b[49m\u001b[38;5;241;43m=\u001b[39;49m\u001b[43mbody\u001b[49m\u001b[43m,\u001b[49m\n\u001b[1;32m   2819\u001b[0m \u001b[43m    \u001b[49m\u001b[38;5;241;43m*\u001b[39;49m\u001b[38;5;241;43m*\u001b[39;49m\u001b[43mkwargs\u001b[49m\n\u001b[1;32m   2820\u001b[0m \u001b[43m\u001b[49m\u001b[43m)\u001b[49m\n",
      "File \u001b[0;32m~/.python/current/lib/python3.12/site-packages/azure/cosmos/_synchronized_request.py:204\u001b[0m, in \u001b[0;36mSynchronizedRequest\u001b[0;34m(client, request_params, global_endpoint_manager, connection_policy, pipeline_client, request, request_data, **kwargs)\u001b[0m\n\u001b[1;32m    201\u001b[0m     request\u001b[38;5;241m.\u001b[39mheaders[http_constants\u001b[38;5;241m.\u001b[39mHttpHeaders\u001b[38;5;241m.\u001b[39mContentLength] \u001b[38;5;241m=\u001b[39m \u001b[38;5;241m0\u001b[39m\n\u001b[1;32m    203\u001b[0m \u001b[38;5;66;03m# Pass _Request function with its parameters to retry_utility's Execute method that wraps the call with retries\u001b[39;00m\n\u001b[0;32m--> 204\u001b[0m \u001b[38;5;28;01mreturn\u001b[39;00m \u001b[43m_retry_utility\u001b[49m\u001b[38;5;241;43m.\u001b[39;49m\u001b[43mExecute\u001b[49m\u001b[43m(\u001b[49m\n\u001b[1;32m    205\u001b[0m \u001b[43m    \u001b[49m\u001b[43mclient\u001b[49m\u001b[43m,\u001b[49m\n\u001b[1;32m    206\u001b[0m \u001b[43m    \u001b[49m\u001b[43mglobal_endpoint_manager\u001b[49m\u001b[43m,\u001b[49m\n\u001b[1;32m    207\u001b[0m \u001b[43m    \u001b[49m\u001b[43m_Request\u001b[49m\u001b[43m,\u001b[49m\n\u001b[1;32m    208\u001b[0m \u001b[43m    \u001b[49m\u001b[43mrequest_params\u001b[49m\u001b[43m,\u001b[49m\n\u001b[1;32m    209\u001b[0m \u001b[43m    \u001b[49m\u001b[43mconnection_policy\u001b[49m\u001b[43m,\u001b[49m\n\u001b[1;32m    210\u001b[0m \u001b[43m    \u001b[49m\u001b[43mpipeline_client\u001b[49m\u001b[43m,\u001b[49m\n\u001b[1;32m    211\u001b[0m \u001b[43m    \u001b[49m\u001b[43mrequest\u001b[49m\u001b[43m,\u001b[49m\n\u001b[1;32m    212\u001b[0m \u001b[43m    \u001b[49m\u001b[38;5;241;43m*\u001b[39;49m\u001b[38;5;241;43m*\u001b[39;49m\u001b[43mkwargs\u001b[49m\n\u001b[1;32m    213\u001b[0m \u001b[43m\u001b[49m\u001b[43m)\u001b[49m\n",
      "File \u001b[0;32m~/.python/current/lib/python3.12/site-packages/azure/cosmos/_retry_utility.py:85\u001b[0m, in \u001b[0;36mExecute\u001b[0;34m(client, global_endpoint_manager, function, *args, **kwargs)\u001b[0m\n\u001b[1;32m     83\u001b[0m \u001b[38;5;28;01mtry\u001b[39;00m:\n\u001b[1;32m     84\u001b[0m     \u001b[38;5;28;01mif\u001b[39;00m args:\n\u001b[0;32m---> 85\u001b[0m         result \u001b[38;5;241m=\u001b[39m \u001b[43mExecuteFunction\u001b[49m\u001b[43m(\u001b[49m\u001b[43mfunction\u001b[49m\u001b[43m,\u001b[49m\u001b[43m \u001b[49m\u001b[43mglobal_endpoint_manager\u001b[49m\u001b[43m,\u001b[49m\u001b[43m \u001b[49m\u001b[38;5;241;43m*\u001b[39;49m\u001b[43margs\u001b[49m\u001b[43m,\u001b[49m\u001b[43m \u001b[49m\u001b[38;5;241;43m*\u001b[39;49m\u001b[38;5;241;43m*\u001b[39;49m\u001b[43mkwargs\u001b[49m\u001b[43m)\u001b[49m\n\u001b[1;32m     86\u001b[0m     \u001b[38;5;28;01melse\u001b[39;00m:\n\u001b[1;32m     87\u001b[0m         result \u001b[38;5;241m=\u001b[39m ExecuteFunction(function, \u001b[38;5;241m*\u001b[39margs, \u001b[38;5;241m*\u001b[39m\u001b[38;5;241m*\u001b[39mkwargs)\n",
      "File \u001b[0;32m~/.python/current/lib/python3.12/site-packages/azure/cosmos/_retry_utility.py:149\u001b[0m, in \u001b[0;36mExecuteFunction\u001b[0;34m(function, *args, **kwargs)\u001b[0m\n\u001b[1;32m    142\u001b[0m \u001b[38;5;28;01mdef\u001b[39;00m \u001b[38;5;21mExecuteFunction\u001b[39m(function, \u001b[38;5;241m*\u001b[39margs, \u001b[38;5;241m*\u001b[39m\u001b[38;5;241m*\u001b[39mkwargs):\n\u001b[1;32m    143\u001b[0m \u001b[38;5;250m    \u001b[39m\u001b[38;5;124;03m\"\"\"Stub method so that it can be used for mocking purposes as well.\u001b[39;00m\n\u001b[1;32m    144\u001b[0m \u001b[38;5;124;03m    :param Callable function: the function to execute.\u001b[39;00m\n\u001b[1;32m    145\u001b[0m \u001b[38;5;124;03m    :param list args: the explicit arguments for the function.\u001b[39;00m\n\u001b[1;32m    146\u001b[0m \u001b[38;5;124;03m    :returns: the result of executing the function with the passed in arguments\u001b[39;00m\n\u001b[1;32m    147\u001b[0m \u001b[38;5;124;03m    :rtype: tuple(dict, dict)\u001b[39;00m\n\u001b[1;32m    148\u001b[0m \u001b[38;5;124;03m    \"\"\"\u001b[39;00m\n\u001b[0;32m--> 149\u001b[0m     \u001b[38;5;28;01mreturn\u001b[39;00m \u001b[43mfunction\u001b[49m\u001b[43m(\u001b[49m\u001b[38;5;241;43m*\u001b[39;49m\u001b[43margs\u001b[49m\u001b[43m,\u001b[49m\u001b[43m \u001b[49m\u001b[38;5;241;43m*\u001b[39;49m\u001b[38;5;241;43m*\u001b[39;49m\u001b[43mkwargs\u001b[49m\u001b[43m)\u001b[49m\n",
      "File \u001b[0;32m~/.python/current/lib/python3.12/site-packages/azure/cosmos/_synchronized_request.py:151\u001b[0m, in \u001b[0;36m_Request\u001b[0;34m(global_endpoint_manager, request_params, connection_policy, pipeline_client, request, **kwargs)\u001b[0m\n\u001b[1;32m    149\u001b[0m     \u001b[38;5;28;01mraise\u001b[39;00m exceptions\u001b[38;5;241m.\u001b[39mCosmosResourceNotFoundError(message\u001b[38;5;241m=\u001b[39mdata, response\u001b[38;5;241m=\u001b[39mresponse)\n\u001b[1;32m    150\u001b[0m \u001b[38;5;28;01mif\u001b[39;00m response\u001b[38;5;241m.\u001b[39mstatus_code \u001b[38;5;241m==\u001b[39m \u001b[38;5;241m409\u001b[39m:\n\u001b[0;32m--> 151\u001b[0m     \u001b[38;5;28;01mraise\u001b[39;00m exceptions\u001b[38;5;241m.\u001b[39mCosmosResourceExistsError(message\u001b[38;5;241m=\u001b[39mdata, response\u001b[38;5;241m=\u001b[39mresponse)\n\u001b[1;32m    152\u001b[0m \u001b[38;5;28;01mif\u001b[39;00m response\u001b[38;5;241m.\u001b[39mstatus_code \u001b[38;5;241m==\u001b[39m \u001b[38;5;241m412\u001b[39m:\n\u001b[1;32m    153\u001b[0m     \u001b[38;5;28;01mraise\u001b[39;00m exceptions\u001b[38;5;241m.\u001b[39mCosmosAccessConditionFailedError(message\u001b[38;5;241m=\u001b[39mdata, response\u001b[38;5;241m=\u001b[39mresponse)\n",
      "\u001b[0;31mCosmosResourceExistsError\u001b[0m: (Conflict) Entity with the specified id already exists in the system., \r\nRequestStartTime: 2024-10-09T23:32:28.8428123Z, RequestEndTime: 2024-10-09T23:32:28.8452891Z,  Number of regions attempted:1\r\n{\"systemHistory\":[{\"dateUtc\":\"2024-10-09T23:31:35.7201841Z\",\"cpu\":0.783,\"memory\":470393788.000,\"threadInfo\":{\"isThreadStarving\":\"False\",\"threadWaitIntervalInMs\":0.0928,\"availableThreads\":32765,\"minThreads\":52,\"maxThreads\":32767},\"numberOfOpenTcpConnection\":1177},{\"dateUtc\":\"2024-10-09T23:31:45.7302808Z\",\"cpu\":1.597,\"memory\":470400100.000,\"threadInfo\":{\"isThreadStarving\":\"False\",\"threadWaitIntervalInMs\":0.0462,\"availableThreads\":32765,\"minThreads\":52,\"maxThreads\":32767},\"numberOfOpenTcpConnection\":1177},{\"dateUtc\":\"2024-10-09T23:31:55.7403405Z\",\"cpu\":0.327,\"memory\":470395360.000,\"threadInfo\":{\"isThreadStarving\":\"False\",\"threadWaitIntervalInMs\":0.1125,\"availableThreads\":32765,\"minThreads\":52,\"maxThreads\":32767},\"numberOfOpenTcpConnection\":1181},{\"dateUtc\":\"2024-10-09T23:32:05.7503551Z\",\"cpu\":0.606,\"memory\":470399480.000,\"threadInfo\":{\"isThreadStarving\":\"False\",\"threadWaitIntervalInMs\":0.0481,\"availableThreads\":32765,\"minThreads\":52,\"maxThreads\":32767},\"numberOfOpenTcpConnection\":1188},{\"dateUtc\":\"2024-10-09T23:32:15.7604543Z\",\"cpu\":1.112,\"memory\":470402204.000,\"threadInfo\":{\"isThreadStarving\":\"False\",\"threadWaitIntervalInMs\":0.16,\"availableThreads\":32765,\"minThreads\":52,\"maxThreads\":32767},\"numberOfOpenTcpConnection\":1197},{\"dateUtc\":\"2024-10-09T23:32:25.7708568Z\",\"cpu\":0.921,\"memory\":470407680.000,\"threadInfo\":{\"isThreadStarving\":\"False\",\"threadWaitIntervalInMs\":0.1088,\"availableThreads\":32765,\"minThreads\":52,\"maxThreads\":32767},\"numberOfOpenTcpConnection\":1197}]}\r\nRequestStart: 2024-10-09T23:32:28.8429127Z; ResponseTime: 2024-10-09T23:32:28.8452891Z; StoreResult: StorePhysicalAddress: rntbd://cdb-ms-prod-westus2-be114.documents.azure.com:14102/apps/130daf2e-2a1b-4939-89eb-3b858b6c17c7/services/0f7c48e0-4409-4ef6-afef-80b41b5b5dca/partitions/818afbc7-f320-4351-b9de-a940f1356be2/replicas/133728039025196005p/, LSN: 2, GlobalCommittedLsn: 2, PartitionKeyRangeId: 0, IsValid: True, StatusCode: 409, SubStatusCode: 0, RequestCharge: 1.76, ItemLSN: -1, SessionToken: -1#2, UsingLocalLSN: False, TransportException: null, BELatencyMs: 1.546, ActivityId: 489d9ab8-239b-4667-9467-2b774e101531, RetryAfterInMs: , ReplicaHealthStatuses: [(port: 14102 | status: Connected | lkt: 10/9/2024 11:32:18 PM)], TransportRequestTimeline: {\"requestTimeline\":[{\"event\": \"Created\", \"startTimeUtc\": \"2024-10-09T23:32:28.8429135Z\", \"durationInMs\": 0.0084},{\"event\": \"ChannelAcquisitionStarted\", \"startTimeUtc\": \"2024-10-09T23:32:28.8429219Z\", \"durationInMs\": 0.0125},{\"event\": \"Pipelined\", \"startTimeUtc\": \"2024-10-09T23:32:28.8429344Z\", \"durationInMs\": 0.0797},{\"event\": \"Transit Time\", \"startTimeUtc\": \"2024-10-09T23:32:28.8430141Z\", \"durationInMs\": 2.1406},{\"event\": \"Received\", \"startTimeUtc\": \"2024-10-09T23:32:28.8451547Z\", \"durationInMs\": 0.1224},{\"event\": \"Completed\", \"startTimeUtc\": \"2024-10-09T23:32:28.8452771Z\", \"durationInMs\": 0}],\"serviceEndpointStats\":{\"inflightRequests\":1,\"openConnections\":1},\"connectionStats\":{\"waitforConnectionInit\":\"False\",\"callsPendingReceive\":0,\"lastSendAttempt\":\"2024-10-09T23:32:18.8705656Z\",\"lastSend\":\"2024-10-09T23:32:18.8706005Z\",\"lastReceive\":\"2024-10-09T23:32:18.8724932Z\"},\"requestSizeInBytes\":626,\"requestBodySizeInBytes\":120,\"responseMetadataSizeInBytes\":182,\"responseBodySizeInBytes\":65};\r\n ResourceType: Document, OperationType: Create\r\n, Microsoft.Azure.Documents.Common/2.14.0\nCode: Conflict\nMessage: Entity with the specified id already exists in the system., \r\nRequestStartTime: 2024-10-09T23:32:28.8428123Z, RequestEndTime: 2024-10-09T23:32:28.8452891Z,  Number of regions attempted:1\r\n{\"systemHistory\":[{\"dateUtc\":\"2024-10-09T23:31:35.7201841Z\",\"cpu\":0.783,\"memory\":470393788.000,\"threadInfo\":{\"isThreadStarving\":\"False\",\"threadWaitIntervalInMs\":0.0928,\"availableThreads\":32765,\"minThreads\":52,\"maxThreads\":32767},\"numberOfOpenTcpConnection\":1177},{\"dateUtc\":\"2024-10-09T23:31:45.7302808Z\",\"cpu\":1.597,\"memory\":470400100.000,\"threadInfo\":{\"isThreadStarving\":\"False\",\"threadWaitIntervalInMs\":0.0462,\"availableThreads\":32765,\"minThreads\":52,\"maxThreads\":32767},\"numberOfOpenTcpConnection\":1177},{\"dateUtc\":\"2024-10-09T23:31:55.7403405Z\",\"cpu\":0.327,\"memory\":470395360.000,\"threadInfo\":{\"isThreadStarving\":\"False\",\"threadWaitIntervalInMs\":0.1125,\"availableThreads\":32765,\"minThreads\":52,\"maxThreads\":32767},\"numberOfOpenTcpConnection\":1181},{\"dateUtc\":\"2024-10-09T23:32:05.7503551Z\",\"cpu\":0.606,\"memory\":470399480.000,\"threadInfo\":{\"isThreadStarving\":\"False\",\"threadWaitIntervalInMs\":0.0481,\"availableThreads\":32765,\"minThreads\":52,\"maxThreads\":32767},\"numberOfOpenTcpConnection\":1188},{\"dateUtc\":\"2024-10-09T23:32:15.7604543Z\",\"cpu\":1.112,\"memory\":470402204.000,\"threadInfo\":{\"isThreadStarving\":\"False\",\"threadWaitIntervalInMs\":0.16,\"availableThreads\":32765,\"minThreads\":52,\"maxThreads\":32767},\"numberOfOpenTcpConnection\":1197},{\"dateUtc\":\"2024-10-09T23:32:25.7708568Z\",\"cpu\":0.921,\"memory\":470407680.000,\"threadInfo\":{\"isThreadStarving\":\"False\",\"threadWaitIntervalInMs\":0.1088,\"availableThreads\":32765,\"minThreads\":52,\"maxThreads\":32767},\"numberOfOpenTcpConnection\":1197}]}\r\nRequestStart: 2024-10-09T23:32:28.8429127Z; ResponseTime: 2024-10-09T23:32:28.8452891Z; StoreResult: StorePhysicalAddress: rntbd://cdb-ms-prod-westus2-be114.documents.azure.com:14102/apps/130daf2e-2a1b-4939-89eb-3b858b6c17c7/services/0f7c48e0-4409-4ef6-afef-80b41b5b5dca/partitions/818afbc7-f320-4351-b9de-a940f1356be2/replicas/133728039025196005p/, LSN: 2, GlobalCommittedLsn: 2, PartitionKeyRangeId: 0, IsValid: True, StatusCode: 409, SubStatusCode: 0, RequestCharge: 1.76, ItemLSN: -1, SessionToken: -1#2, UsingLocalLSN: False, TransportException: null, BELatencyMs: 1.546, ActivityId: 489d9ab8-239b-4667-9467-2b774e101531, RetryAfterInMs: , ReplicaHealthStatuses: [(port: 14102 | status: Connected | lkt: 10/9/2024 11:32:18 PM)], TransportRequestTimeline: {\"requestTimeline\":[{\"event\": \"Created\", \"startTimeUtc\": \"2024-10-09T23:32:28.8429135Z\", \"durationInMs\": 0.0084},{\"event\": \"ChannelAcquisitionStarted\", \"startTimeUtc\": \"2024-10-09T23:32:28.8429219Z\", \"durationInMs\": 0.0125},{\"event\": \"Pipelined\", \"startTimeUtc\": \"2024-10-09T23:32:28.8429344Z\", \"durationInMs\": 0.0797},{\"event\": \"Transit Time\", \"startTimeUtc\": \"2024-10-09T23:32:28.8430141Z\", \"durationInMs\": 2.1406},{\"event\": \"Received\", \"startTimeUtc\": \"2024-10-09T23:32:28.8451547Z\", \"durationInMs\": 0.1224},{\"event\": \"Completed\", \"startTimeUtc\": \"2024-10-09T23:32:28.8452771Z\", \"durationInMs\": 0}],\"serviceEndpointStats\":{\"inflightRequests\":1,\"openConnections\":1},\"connectionStats\":{\"waitforConnectionInit\":\"False\",\"callsPendingReceive\":0,\"lastSendAttempt\":\"2024-10-09T23:32:18.8705656Z\",\"lastSend\":\"2024-10-09T23:32:18.8706005Z\",\"lastReceive\":\"2024-10-09T23:32:18.8724932Z\"},\"requestSizeInBytes\":626,\"requestBodySizeInBytes\":120,\"responseMetadataSizeInBytes\":182,\"responseBodySizeInBytes\":65};\r\n ResourceType: Document, OperationType: Create\r\n, Microsoft.Azure.Documents.Common/2.14.0"
     ]
    }
   ],
   "source": [
    "item = conteiner.create_item(body=documento)\n"
   ]
  },
  {
   "cell_type": "code",
   "execution_count": 15,
   "metadata": {},
   "outputs": [
    {
     "data": {
      "text/plain": [
       "{'id': '1',\n",
       " 'nombre': 'Producto A',\n",
       " 'descripcion': 'Descripcion del producto A',\n",
       " 'precio': 24.99,\n",
       " 'categoria': 'Electronica',\n",
       " '_rid': '1nF7ALiEmkwBAAAAAAAAAA==',\n",
       " '_self': 'dbs/1nF7AA==/colls/1nF7ALiEmkw=/docs/1nF7ALiEmkwBAAAAAAAAAA==/',\n",
       " '_etag': '\"02000a5e-0000-0800-0000-6707134f0000\"',\n",
       " '_attachments': 'attachments/',\n",
       " '_ts': 1728516943}"
      ]
     },
     "execution_count": 15,
     "metadata": {},
     "output_type": "execute_result"
    }
   ],
   "source": [
    "item = conteiner.read_item(item=\"1\",partition_key=\"1\")\n",
    "item['precio'] = 24.99\n",
    "conteiner.replace_item(item=item, body=item)"
   ]
  }
 ],
 "metadata": {
  "kernelspec": {
   "display_name": "Python 3",
   "language": "python",
   "name": "python3"
  },
  "language_info": {
   "codemirror_mode": {
    "name": "ipython",
    "version": 3
   },
   "file_extension": ".py",
   "mimetype": "text/x-python",
   "name": "python",
   "nbconvert_exporter": "python",
   "pygments_lexer": "ipython3",
   "version": "3.12.1"
  }
 },
 "nbformat": 4,
 "nbformat_minor": 2
}
