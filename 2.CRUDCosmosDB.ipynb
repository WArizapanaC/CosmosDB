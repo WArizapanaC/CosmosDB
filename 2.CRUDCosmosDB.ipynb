{
 "cells": [
  {
   "cell_type": "code",
   "execution_count": 1,
   "metadata": {},
   "outputs": [
    {
     "name": "stdout",
     "output_type": "stream",
     "text": [
      "Collecting azure-cosmos\n",
      "  Downloading azure_cosmos-4.7.0-py3-none-any.whl.metadata (70 kB)\n",
      "Collecting azure-core>=1.25.1 (from azure-cosmos)\n",
      "  Downloading azure_core-1.31.0-py3-none-any.whl.metadata (39 kB)\n",
      "Requirement already satisfied: typing-extensions>=4.6.0 in /home/codespace/.local/lib/python3.12/site-packages (from azure-cosmos) (4.9.0)\n",
      "Requirement already satisfied: requests>=2.21.0 in /home/codespace/.local/lib/python3.12/site-packages (from azure-core>=1.25.1->azure-cosmos) (2.32.3)\n",
      "Requirement already satisfied: six>=1.11.0 in /home/codespace/.local/lib/python3.12/site-packages (from azure-core>=1.25.1->azure-cosmos) (1.16.0)\n",
      "Requirement already satisfied: charset-normalizer<4,>=2 in /home/codespace/.local/lib/python3.12/site-packages (from requests>=2.21.0->azure-core>=1.25.1->azure-cosmos) (3.3.2)\n",
      "Requirement already satisfied: idna<4,>=2.5 in /home/codespace/.local/lib/python3.12/site-packages (from requests>=2.21.0->azure-core>=1.25.1->azure-cosmos) (3.10)\n",
      "Requirement already satisfied: urllib3<3,>=1.21.1 in /home/codespace/.local/lib/python3.12/site-packages (from requests>=2.21.0->azure-core>=1.25.1->azure-cosmos) (2.2.3)\n",
      "Requirement already satisfied: certifi>=2017.4.17 in /home/codespace/.local/lib/python3.12/site-packages (from requests>=2.21.0->azure-core>=1.25.1->azure-cosmos) (2024.8.30)\n",
      "Downloading azure_cosmos-4.7.0-py3-none-any.whl (252 kB)\n",
      "Downloading azure_core-1.31.0-py3-none-any.whl (197 kB)\n",
      "Installing collected packages: azure-core, azure-cosmos\n",
      "Successfully installed azure-core-1.31.0 azure-cosmos-4.7.0\n"
     ]
    }
   ],
   "source": [
    "!pip install azure-cosmos"
   ]
  },
  {
   "cell_type": "code",
   "execution_count": 2,
   "metadata": {},
   "outputs": [],
   "source": [
    "# Endpoint: \n",
    "# Key: \n",
    "\n",
    "COSMOS_ENDPOINT = ''\n",
    "COSMOS_KEY = ''\n",
    "\n",
    "DATABASE_NAME = 'Test'\n",
    "CONTAINER_NAME = 'retail'"
   ]
  },
  {
   "cell_type": "code",
   "execution_count": 13,
   "metadata": {},
   "outputs": [],
   "source": [
    "from azure.cosmos import CosmosClient, exceptions, PartitionKey"
   ]
  },
  {
   "cell_type": "code",
   "execution_count": 15,
   "metadata": {},
   "outputs": [],
   "source": [
    "client = CosmosClient(COSMOS_ENDPOINT, COSMOS_KEY)"
   ]
  },
  {
   "cell_type": "code",
   "execution_count": 16,
   "metadata": {},
   "outputs": [],
   "source": [
    "database = client.create_database_if_not_exists(id=DATABASE_NAME)"
   ]
  },
  {
   "cell_type": "code",
   "execution_count": 17,
   "metadata": {},
   "outputs": [],
   "source": [
    "conteiner =database.create_container_if_not_exists(\n",
    "    id=CONTAINER_NAME,\n",
    "    partition_key= PartitionKey(path=\"/id\"),\n",
    "    offer_throughput=400\n",
    ")"
   ]
  },
  {
   "cell_type": "code",
   "execution_count": 18,
   "metadata": {},
   "outputs": [
    {
     "data": {
      "text/plain": [
       "dict"
      ]
     },
     "execution_count": 18,
     "metadata": {},
     "output_type": "execute_result"
    }
   ],
   "source": [
    "documento = {\n",
    "    \"id\": \"1\",\n",
    "    \"nombre\": \"Producto A\",\n",
    "    \"descripcion\": \"Descripcion del producto A\",\n",
    "    \"precio\": 29.99,\n",
    "    \"categoria\": \"Electronica\"\n",
    " \n",
    "}\n",
    "type(documento)"
   ]
  },
  {
   "cell_type": "code",
   "execution_count": 20,
   "metadata": {},
   "outputs": [
    {
     "data": {
      "text/plain": [
       "{'id': '1',\n",
       " 'nombre': 'Producto A',\n",
       " 'descripcion': 'Descripcion del producto A',\n",
       " 'precio': 29.99,\n",
       " 'categoria': 'Electronica',\n",
       " '_rid': '1nF7ALiEmkwBAAAAAAAAAA==',\n",
       " '_self': 'dbs/1nF7AA==/colls/1nF7ALiEmkw=/docs/1nF7ALiEmkwBAAAAAAAAAA==/',\n",
       " '_etag': '\"0100a75f-0000-0800-0000-670489d40000\"',\n",
       " '_attachments': 'attachments/',\n",
       " '_ts': 1728350676}"
      ]
     },
     "execution_count": 20,
     "metadata": {},
     "output_type": "execute_result"
    }
   ],
   "source": [
    "conteiner.create_item(body=documento)"
   ]
  },
  {
   "cell_type": "code",
   "execution_count": null,
   "metadata": {},
   "outputs": [],
   "source": [
    "item = conteiner.read_item(item=\"1\",partition_key=\"1\")\n",
    "item['precio'] = 24.99\n",
    "conteiner.replace_item(item=item, body=item)"
   ]
  }
 ],
 "metadata": {
  "kernelspec": {
   "display_name": "Python 3",
   "language": "python",
   "name": "python3"
  },
  "language_info": {
   "codemirror_mode": {
    "name": "ipython",
    "version": 3
   },
   "file_extension": ".py",
   "mimetype": "text/x-python",
   "name": "python",
   "nbconvert_exporter": "python",
   "pygments_lexer": "ipython3",
   "version": "3.12.1"
  }
 },
 "nbformat": 4,
 "nbformat_minor": 2
}
